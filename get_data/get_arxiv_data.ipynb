{
 "cells": [
  {
   "cell_type": "code",
   "execution_count": 1,
   "metadata": {},
   "outputs": [],
   "source": [
    "import urllib, urllib.request\n",
    "import xmltodict\n",
    "import json"
   ]
  },
  {
   "cell_type": "markdown",
   "metadata": {},
   "source": [
    "'search_query' = \n",
    " - ti (title):\n",
    " - au (author):\n",
    " - jr (journal reference):\n",
    " - cat (subject category):\n",
    " - rn (report number):\n",
    " - id (Id use id_list instead)\n",
    " - all (all of the above)\n",
    "\n",
    "'start' and 'max_results' paging = \n",
    " - Within the total results set, start defines the index of the first returned result, using 0-based indexing\n",
    " - max_results is the number of results returned by the query\n",
    "\n",
    "sort order for return results = \n",
    " - 'sortBy' = can be \"relevance\", \"lastUpdatedDate\", \"submittedDate\"\n",
    " - 'sortOrder' = can be either \"ascending\" or \"descending\"\n",
    " - \"http://export.arxiv.org/api/query?search_query=ti:\"electron thermal conductivity\"&sortBy=lastUpdatedDate&sortOrder=ascending\""
   ]
  },
  {
   "cell_type": "code",
   "execution_count": 51,
   "metadata": {},
   "outputs": [],
   "source": [
    "# arXiv category taxonomy\n",
    "csCats = ['cs.AI', 'cs.CE', 'cs.DB', 'cs.ET', 'cs.DC', 'cs.LG', 'cs.IT']\n",
    "statCats = ['stat.AP', 'stat.ML', 'stat.TH', 'stat.ME']\n",
    "mathCats = ['math.PR', 'math.ST']\n",
    "econCats = ['econ.EM']"
   ]
  },
  {
   "cell_type": "code",
   "execution_count": 75,
   "metadata": {},
   "outputs": [],
   "source": [
    "def get_arxiv(db, category=list, file=bool):\n",
    "    if type(category) != list:\n",
    "        raise TypeError('Category is not in list format')\n",
    "    else:\n",
    "        for cat in category:\n",
    "            url = 'http://export.arxiv.org/api/query?search_query=cat:{}&start=0&max_results=1000&sortBy=relevance&sortOrder=ascending'.format(cat)\n",
    "            data = urllib.request.urlopen(url)\n",
    "            arxiv_data = data.read().decode('utf-8')\n",
    "\n",
    "            # Returned data is an \"Atom Document\" - convert to ordered dictionary\n",
    "            arxiv_dict = xmltodict.parse(arxiv_data)\n",
    "\n",
    "            # Converting to JSON\n",
    "            arxivJSON = json.dumps(arxiv_dict, indent=4)\n",
    "\n",
    "            # Decoding JSON\n",
    "            arxiv_final = json.loads(arxivJSON)\n",
    "\n",
    "            # Insert document into collection\n",
    "            try:\n",
    "                db.insert_many(arxiv_final['feed']['entry'])\n",
    "            except:\n",
    "                print('An error has occured')\n",
    "\n",
    "            # Optional - write and save to file\n",
    "            if file == True:\n",
    "                with open('{}.json'.format(cat.replace('.', '_')), 'w') as write_file:\n",
    "                    json.dump(arxiv_dict, write_file, indent=4)\n",
    "            else:\n",
    "                print('Data collection and insertion into MongoDB database is complete')"
   ]
  },
  {
   "cell_type": "code",
   "execution_count": 65,
   "metadata": {},
   "outputs": [],
   "source": [
    "get_arxiv(econCats)"
   ]
  },
  {
   "cell_type": "code",
   "execution_count": null,
   "metadata": {},
   "outputs": [],
   "source": []
  }
 ],
 "metadata": {
  "interpreter": {
   "hash": "6ea8e6696542bf91b5850513673ceef1808937d627ee3e2c71e2007cafbd44d0"
  },
  "kernelspec": {
   "display_name": "Python 3.8.12 64-bit ('autodidact': conda)",
   "name": "python3"
  },
  "language_info": {
   "codemirror_mode": {
    "name": "ipython",
    "version": 3
   },
   "file_extension": ".py",
   "mimetype": "text/x-python",
   "name": "python",
   "nbconvert_exporter": "python",
   "pygments_lexer": "ipython3",
   "version": "3.8.12"
  },
  "orig_nbformat": 4
 },
 "nbformat": 4,
 "nbformat_minor": 2
}
